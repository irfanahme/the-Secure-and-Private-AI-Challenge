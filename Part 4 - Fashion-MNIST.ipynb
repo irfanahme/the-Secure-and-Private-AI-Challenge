{
 "cells": [
  {
   "cell_type": "markdown",
   "metadata": {},
   "source": [
    "# Classifying Fashion-MNIST\n",
    "\n",
    "Now it's your turn to build and train a neural network. You'll be using the [Fashion-MNIST dataset](https://github.com/zalandoresearch/fashion-mnist), a drop-in replacement for the MNIST dataset. MNIST is actually quite trivial with neural networks where you can easily achieve better than 97% accuracy. Fashion-MNIST is a set of 28x28 greyscale images of clothes. It's more complex than MNIST, so it's a better representation of the actual performance of your network, and a better representation of datasets you'll use in the real world.\n",
    "\n",
    "<img src='../assets/fashion-mnist-sprite.png' width=500px>\n",
    "\n",
    "In this notebook, you'll build your own neural network. For the most part, you could just copy and paste the code from Part 3, but you wouldn't be learning. It's important for you to write the code yourself and get it to work. Feel free to consult the previous notebooks though as you work through this.\n",
    "\n",
    "First off, let's load the dataset through torchvision."
   ]
  },
  {
   "cell_type": "code",
   "execution_count": 1,
   "metadata": {},
   "outputs": [
    {
     "name": "stdout",
     "output_type": "stream",
     "text": [
      "Downloading http://fashion-mnist.s3-website.eu-central-1.amazonaws.com/train-images-idx3-ubyte.gz to C:\\Users\\arya/.pytorch/F_MNIST_data/FashionMNIST\\raw\\train-images-idx3-ubyte.gz\n"
     ]
    },
    {
     "name": "stderr",
     "output_type": "stream",
     "text": [
      "26427392it [00:58, 514254.67it/s]                                                                                      "
     ]
    },
    {
     "name": "stdout",
     "output_type": "stream",
     "text": [
      "Extracting C:\\Users\\arya/.pytorch/F_MNIST_data/FashionMNIST\\raw\\train-images-idx3-ubyte.gz\n",
      "Downloading http://fashion-mnist.s3-website.eu-central-1.amazonaws.com/train-labels-idx1-ubyte.gz to C:\\Users\\arya/.pytorch/F_MNIST_data/FashionMNIST\\raw\\train-labels-idx1-ubyte.gz\n"
     ]
    },
    {
     "name": "stderr",
     "output_type": "stream",
     "text": [
      "\n",
      "0it [00:00, ?it/s]\n",
      "  0%|                                                                                        | 0/29515 [00:00<?, ?it/s]\n",
      " 56%|████████████████████████████████████████▌                                | 16384/29515 [00:00<00:00, 96938.87it/s]"
     ]
    },
    {
     "name": "stdout",
     "output_type": "stream",
     "text": [
      "Extracting C:\\Users\\arya/.pytorch/F_MNIST_data/FashionMNIST\\raw\\train-labels-idx1-ubyte.gz\n",
      "Downloading http://fashion-mnist.s3-website.eu-central-1.amazonaws.com/t10k-images-idx3-ubyte.gz to C:\\Users\\arya/.pytorch/F_MNIST_data/FashionMNIST\\raw\\t10k-images-idx3-ubyte.gz\n"
     ]
    },
    {
     "name": "stderr",
     "output_type": "stream",
     "text": [
      "\n",
      "\n",
      "0it [00:00, ?it/s]\n",
      "\n",
      "  0%|                                                                                      | 0/4422102 [00:00<?, ?it/s]\n",
      "\n",
      "  0%|▎                                                                     | 16384/4422102 [00:00<00:42, 103054.59it/s]\n",
      "\n",
      "  1%|▊                                                                     | 49152/4422102 [00:00<00:37, 117198.14it/s]\n",
      "\n",
      "  2%|█▌                                                                    | 98304/4422102 [00:00<00:28, 151847.03it/s]\n",
      "\n",
      "  3%|██                                                                   | 131072/4422102 [00:00<00:24, 176163.00it/s]\n",
      "\n",
      "  4%|██▋                                                                  | 172032/4422102 [00:01<00:20, 204459.99it/s]\n",
      "\n",
      "  5%|███▍                                                                 | 221184/4422102 [00:01<00:16, 247794.54it/s]\n",
      "\n",
      "  6%|████▎                                                                | 278528/4422102 [00:01<00:14, 290447.30it/s]\n",
      "\n",
      "  7%|█████                                                                | 327680/4422102 [00:01<00:12, 331035.02it/s]\n",
      "\n",
      "  9%|█████▉                                                               | 376832/4422102 [00:01<00:11, 364697.85it/s]\n",
      "\n",
      " 10%|██████▋                                                              | 425984/4422102 [00:01<00:10, 394418.24it/s]\n",
      "\n",
      " 11%|███████▍                                                             | 475136/4422102 [00:01<00:09, 419226.78it/s]\n",
      "\n",
      " 12%|████████▏                                                            | 524288/4422102 [00:01<00:08, 435418.96it/s]\n",
      "\n",
      " 13%|████████▉                                                            | 573440/4422102 [00:02<00:20, 186783.66it/s]\n",
      "\n",
      " 16%|██████████▋                                                          | 688128/4422102 [00:02<00:15, 246558.80it/s]\n",
      "\n",
      " 18%|████████████▏                                                        | 778240/4422102 [00:02<00:11, 307569.74it/s]\n",
      "\n",
      " 23%|███████████████▌                                                     | 999424/4422102 [00:02<00:08, 411428.01it/s]\n",
      "\n",
      " 25%|█████████████████                                                   | 1105920/4422102 [00:03<00:07, 427075.32it/s]\n",
      "\n",
      " 27%|██████████████████▍                                                 | 1196032/4422102 [00:03<00:07, 442953.89it/s]\n",
      "\n",
      " 29%|███████████████████▌                                                | 1269760/4422102 [00:03<00:06, 456145.96it/s]\n",
      "\n",
      " 30%|████████████████████▋                                               | 1343488/4422102 [00:03<00:06, 464130.74it/s]\n",
      "\n",
      " 32%|█████████████████████▋                                              | 1409024/4422102 [00:03<00:06, 472145.98it/s]\n",
      "\n",
      " 33%|██████████████████████▌                                             | 1466368/4422102 [00:03<00:06, 476220.90it/s]\n",
      "\n",
      " 34%|███████████████████████▍                                            | 1523712/4422102 [00:03<00:06, 476142.52it/s]\n",
      "\n",
      " 36%|████████████████████████▎                                           | 1581056/4422102 [00:04<00:05, 479508.61it/s]\n",
      "\n",
      " 37%|█████████████████████████▏                                          | 1638400/4422102 [00:04<00:05, 480828.61it/s]\n",
      "\n",
      " 38%|██████████████████████████                                          | 1695744/4422102 [00:04<00:05, 482984.88it/s]\n",
      "\n",
      " 40%|██████████████████████████▉                                         | 1753088/4422102 [00:04<00:05, 484385.22it/s]\n",
      "\n",
      " 41%|███████████████████████████▊                                        | 1810432/4422102 [00:04<00:05, 484529.88it/s]\n",
      "\n",
      " 42%|████████████████████████████▋                                       | 1867776/4422102 [00:05<00:12, 205001.19it/s]\n",
      "\n",
      " 44%|██████████████████████████████                                      | 1957888/4422102 [00:05<00:09, 261145.35it/s]\n",
      "\n",
      " 46%|███████████████████████████████▎                                    | 2039808/4422102 [00:05<00:07, 323915.55it/s]\n",
      "\n",
      " 48%|████████████████████████████████▋                                   | 2121728/4422102 [00:05<00:05, 387262.65it/s]\n",
      "\n",
      " 53%|████████████████████████████████████▏                               | 2351104/4422102 [00:05<00:04, 514837.73it/s]\n",
      "\n",
      " 56%|█████████████████████████████████████▉                              | 2465792/4422102 [00:05<00:03, 511178.88it/s]\n",
      "\n",
      " 58%|███████████████████████████████████████▍                            | 2564096/4422102 [00:06<00:03, 507673.24it/s]\n",
      "\n",
      " 60%|████████████████████████████████████████▋                           | 2646016/4422102 [00:06<00:06, 277098.24it/s]\n",
      "\n",
      " 66%|████████████████████████████████████████████▌                       | 2899968/4422102 [00:06<00:04, 378140.95it/s]\n",
      "\n",
      " 68%|██████████████████████████████████████████████▍                     | 3022848/4422102 [00:07<00:04, 345141.87it/s]\n",
      "\n",
      " 72%|████████████████████████████████████████████████▌                   | 3162112/4422102 [00:07<00:02, 440067.00it/s]\n",
      "\n",
      " 74%|██████████████████████████████████████████████████▎                 | 3268608/4422102 [00:07<00:03, 360007.62it/s]\n",
      "\n",
      " 77%|████████████████████████████████████████████████████▌               | 3416064/4422102 [00:07<00:02, 464402.65it/s]\n",
      "\n",
      " 79%|██████████████████████████████████████████████████████              | 3514368/4422102 [00:08<00:01, 454423.90it/s]\n",
      "\n",
      " 81%|███████████████████████████████████████████████████████▎            | 3596288/4422102 [00:08<00:01, 458747.01it/s]\n",
      "\n",
      " 83%|████████████████████████████████████████████████████████▍           | 3670016/4422102 [00:08<00:01, 458535.58it/s]\n",
      "\n",
      " 84%|█████████████████████████████████████████████████████████▍          | 3735552/4422102 [00:08<00:01, 466522.53it/s]\n",
      "\n",
      " 86%|██████████████████████████████████████████████████████████▍         | 3801088/4422102 [00:08<00:01, 470999.15it/s]\n",
      "\n",
      " 87%|███████████████████████████████████████████████████████████▎        | 3858432/4422102 [00:08<00:01, 475506.82it/s]\n",
      "\n",
      " 89%|████████████████████████████████████████████████████████████▏       | 3915776/4422102 [00:08<00:01, 479298.84it/s]\n",
      "\n",
      " 90%|█████████████████████████████████████████████████████████████       | 3973120/4422102 [00:08<00:00, 481431.42it/s]\n",
      "\n",
      " 91%|█████████████████████████████████████████████████████████████▉      | 4030464/4422102 [00:09<00:00, 481126.24it/s]\n",
      "\n",
      " 92%|██████████████████████████████████████████████████████████████▊     | 4087808/4422102 [00:09<00:00, 484517.89it/s]\n",
      "\n",
      " 94%|███████████████████████████████████████████████████████████████▋    | 4145152/4422102 [00:09<00:00, 484840.84it/s]\n",
      "\n",
      "26427392it [01:10, 514254.67it/s]████████████████████████████████████▌   | 4202496/4422102 [00:09<00:00, 500734.35it/s]\n",
      "\n",
      " 96%|█████████████████████████████████████████████████████████████████▌  | 4259840/4422102 [00:09<00:00, 481087.32it/s]\n",
      "\n",
      " 97%|██████████████████████████████████████████████████████████████████▎ | 4308992/4422102 [00:09<00:00, 479990.86it/s]\n",
      "\n",
      " 99%|███████████████████████████████████████████████████████████████████ | 4358144/4422102 [00:09<00:00, 482760.57it/s]\n",
      "\n",
      "100%|███████████████████████████████████████████████████████████████████▉| 4415488/4422102 [00:09<00:00, 483976.17it/s]"
     ]
    },
    {
     "name": "stdout",
     "output_type": "stream",
     "text": [
      "Extracting C:\\Users\\arya/.pytorch/F_MNIST_data/FashionMNIST\\raw\\t10k-images-idx3-ubyte.gz\n",
      "Downloading http://fashion-mnist.s3-website.eu-central-1.amazonaws.com/t10k-labels-idx1-ubyte.gz to C:\\Users\\arya/.pytorch/F_MNIST_data/FashionMNIST\\raw\\t10k-labels-idx1-ubyte.gz\n"
     ]
    },
    {
     "name": "stderr",
     "output_type": "stream",
     "text": [
      "\n",
      "\n",
      "\n",
      "0it [00:00, ?it/s]\n",
      "\n",
      "\n",
      "  0%|                                                                                         | 0/5148 [00:00<?, ?it/s]\n",
      "\n",
      "\n",
      "8192it [00:00, 17658.84it/s]                                                                                           "
     ]
    },
    {
     "name": "stdout",
     "output_type": "stream",
     "text": [
      "Extracting C:\\Users\\arya/.pytorch/F_MNIST_data/FashionMNIST\\raw\\t10k-labels-idx1-ubyte.gz\n",
      "Processing...\n",
      "Done!\n"
     ]
    }
   ],
   "source": [
    "import torch\n",
    "from torchvision import datasets, transforms\n",
    "import helper\n",
    "\n",
    "# Define a transform to normalize the data\n",
    "transform = transforms.Compose([transforms.ToTensor(),\n",
    "                                transforms.Normalize((0.5,), (0.5,))])\n",
    "# Download and load the training data\n",
    "trainset = datasets.FashionMNIST('~/.pytorch/F_MNIST_data/', download=True, train=True, transform=transform)\n",
    "trainloader = torch.utils.data.DataLoader(trainset, batch_size=64, shuffle=True)\n",
    "\n",
    "# Download and load the test data\n",
    "testset = datasets.FashionMNIST('~/.pytorch/F_MNIST_data/', download=True, train=False, transform=transform)\n",
    "testloader = torch.utils.data.DataLoader(testset, batch_size=64, shuffle=True)"
   ]
  },
  {
   "cell_type": "markdown",
   "metadata": {},
   "source": [
    "Here we can see one of the images."
   ]
  },
  {
   "cell_type": "code",
   "execution_count": 2,
   "metadata": {},
   "outputs": [
    {
     "data": {
      "image/png": "[encoded data removed]",
      "text/plain": [
       "<Figure size 432x288 with 1 Axes>"
      ]
     },
     "metadata": {
      "needs_background": "light"
     },
     "output_type": "display_data"
    }
   ],
   "source": [
    "image, label = next(iter(trainloader))\n",
    "helper.imshow(image[0,:]);"
   ]
  },
  {
   "cell_type": "markdown",
   "metadata": {},
   "source": [
    "## Building the network\n",
    "\n",
    "Here you should define your network. As with MNIST, each image is 28x28 which is a total of 784 pixels, and there are 10 classes. You should include at least one hidden layer. We suggest you use ReLU activations for the layers and to return the logits or log-softmax from the forward pass. It's up to you how many layers you add and the size of those layers."
   ]
  },
  {
   "cell_type": "code",
   "execution_count": 3,
   "metadata": {},
   "outputs": [
    {
     "name": "stderr",
     "output_type": "stream",
     "text": [
      "\n",
      "\n",
      "4423680it [00:29, 483976.17it/s]                                                                                       "
     ]
    }
   ],
   "source": [
    "# TODO: Define your network architecture here\n",
    "from torch import  optim, nn\n",
    "import torch.nn.functional as F"
   ]
  },
  {
   "cell_type": "markdown",
   "metadata": {},
   "source": [
    "# Train the network\n",
    "\n",
    "Now you should create your network and train it. First you'll want to define [the criterion](http://pytorch.org/docs/master/nn.html#loss-functions) ( something like `nn.CrossEntropyLoss`) and [the optimizer](http://pytorch.org/docs/master/optim.html) (typically `optim.SGD` or `optim.Adam`).\n",
    "\n",
    "Then write the training code. Remember the training pass is a fairly straightforward process:\n",
    "\n",
    "* Make a forward pass through the network to get the logits \n",
    "* Use the logits to calculate the loss\n",
    "* Perform a backward pass through the network with `loss.backward()` to calculate the gradients\n",
    "* Take a step with the optimizer to update the weights\n",
    "\n",
    "By adjusting the hyperparameters (hidden units, learning rate, etc), you should be able to get the training loss below 0.4."
   ]
  },
  {
   "cell_type": "code",
   "execution_count": 4,
   "metadata": {},
   "outputs": [],
   "source": [
    "# TODO: Create the network, define the criterion and optimizer\n",
    "class classifier(nn.Module):\n",
    "    def __init__(self):\n",
    "        super().__init__()\n",
    "        self.fc1 = nn.Linear(784, 256)\n",
    "        self.fc2 = nn.Linear(256, 128)\n",
    "        self.fc3 = nn.Linear(128, 64)\n",
    "        self.fc4 = nn.Linear(64, 10)\n",
    "    def forward(self, x):\n",
    "        \n",
    "        x =  x.view(x.shape[0], -1)\n",
    "        \n",
    "        x = F.relu(self.fc1(x))\n",
    "        x = F.relu(self.fc2(x))\n",
    "        x = F.relu(self.fc3(x))\n",
    "        x = F.log_softmax(self.fc4(x), dim=1)\n",
    "        return x\n",
    "    \n",
    "        "
   ]
  },
  {
   "cell_type": "code",
   "execution_count": 5,
   "metadata": {},
   "outputs": [],
   "source": [
    "model = classifier()\n",
    "criterion = nn.NLLLoss()\n",
    "optimizer = optim.Adam(model.parameters(), lr = 0.003)"
   ]
  },
  {
   "cell_type": "code",
   "execution_count": 6,
   "metadata": {},
   "outputs": [
    {
     "name": "stdout",
     "output_type": "stream",
     "text": [
      "Training loss: 0.5207254215121777\n",
      "Training loss: 0.3894198130585873\n",
      "Training loss: 0.3594987930964305\n",
      "Training loss: 0.3320885262191931\n",
      "Training loss: 0.31755611846155957\n"
     ]
    }
   ],
   "source": [
    "# TODO: Train the network here\n",
    "epochs = 5\n",
    "\n",
    "for i in range(epochs):\n",
    "    running_loss =0  \n",
    "    for images, labels in trainloader:\n",
    "        log_ps =  model(images)\n",
    "        loss = criterion(log_ps,  labels)\n",
    "        optimizer.zero_grad()\n",
    "        loss.backward()\n",
    "        optimizer.step()\n",
    "        \n",
    "        running_loss += loss.item()\n",
    "    else:\n",
    "        print(f\"Training loss: {running_loss/len(trainloader)}\")"
   ]
  },
  {
   "cell_type": "code",
   "execution_count": 23,
   "metadata": {},
   "outputs": [
    {
     "data": {
      "image/png": "[encoded data removed]",
      "text/plain": [
       "<Figure size 432x648 with 2 Axes>"
      ]
     },
     "metadata": {
      "image/png": {
       "height": 206,
       "width": 423
      },
      "needs_background": "light"
     },
     "output_type": "display_data"
    }
   ],
   "source": [
    "%matplotlib inline\n",
    "%config InlineBackend.figure_format = 'retina'\n",
    "\n",
    "import helper\n",
    "\n",
    "# Test out your network!\n",
    "\n",
    "dataiter = iter(testloader)\n",
    "images, labels = dataiter.next()\n",
    "img = images[0]\n",
    "# Convert 2D image to 1D vector\n",
    "img = img.resize_(1, 784)\n",
    "\n",
    "# TODO: Calculate the class probabilities (softmax) for img\n",
    "ps = torch.exp(model(img))\n",
    "\n",
    "# Plot the image and probabilities\n",
    "helper.view_classify(img.resize_(1, 28, 28), ps, version='Fashion')"
   ]
  },
  {
   "cell_type": "code",
   "execution_count": null,
   "metadata": {},
   "outputs": [],
   "source": []
  }
 ],
 "metadata": {
  "kernelspec": {
   "display_name": "Python 3",
   "language": "python",
   "name": "python3"
  },
  "language_info": {
   "codemirror_mode": {
    "name": "ipython",
    "version": 3
   },
   "file_extension": ".py",
   "mimetype": "text/x-python",
   "name": "python",
   "nbconvert_exporter": "python",
   "pygments_lexer": "ipython3",
   "version": "3.7.3"
  }
 },
 "nbformat": 4,
 "nbformat_minor": 2
}
